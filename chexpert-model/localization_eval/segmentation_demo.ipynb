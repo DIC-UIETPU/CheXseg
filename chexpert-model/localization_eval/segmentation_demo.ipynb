{
 "cells": [
  {
   "cell_type": "markdown",
   "metadata": {},
   "source": [
    "## Visualize segmentations generated on different localization methods"
   ]
  },
  {
   "cell_type": "code",
   "execution_count": null,
   "metadata": {},
   "outputs": [],
   "source": [
    "%load_ext autoreload\n",
    "%autoreload 2"
   ]
  },
  {
   "cell_type": "code",
   "execution_count": null,
   "metadata": {},
   "outputs": [],
   "source": [
    "from plot_helper import *\n",
    "import ipyplot"
   ]
  },
  {
   "cell_type": "code",
   "execution_count": null,
   "metadata": {},
   "outputs": [],
   "source": [
    "# choose a task from these localization tasks\n",
    "LOCALIZATION_TASKS =  [\"Enlarged Cardiomediastinum\",\n",
    "                  \"Cardiomegaly\",\n",
    "                  \"Lung Lesion\",\n",
    "                  \"Airspace Opacity\",\n",
    "                  \"Edema\",\n",
    "                  \"Consolidation\",\n",
    "                  \"Atelectasis\",\n",
    "                  \"Pneumothorax\",\n",
    "                  \"Pleural Effusion\",\n",
    "                  \"Support Devices\"\n",
    "                  ]"
   ]
  },
  {
   "cell_type": "markdown",
   "metadata": {},
   "source": [
    "## Test Set\n",
    "Red is Stanford annotation and yellow is one of gradcam, ig and vietnam\n",
    "\n",
    "*IG CAMS not ready*"
   ]
  },
  {
   "cell_type": "markdown",
   "metadata": {},
   "source": [
    "### Parameters to change"
   ]
  },
  {
   "cell_type": "code",
   "execution_count": null,
   "metadata": {},
   "outputs": [],
   "source": [
    "task = 'Airspace Opacity' # choose from the localization tasks to avoid error\n",
    "pos_only = False # true if only show positive instances; change to false to visualize all images\n",
    "\n",
    "# change the indices to your only liking to visualize as many images as needed\n",
    "start_idx = 0\n",
    "end_idx = 10\n",
    "\n",
    "# opacity\n",
    "w = 0.92 # 1 if wants segmentation to be very light, 0 otherwise\n",
    "img_width = 300 # width of image to display"
   ]
  },
  {
   "cell_type": "markdown",
   "metadata": {},
   "source": [
    "### Plot "
   ]
  },
  {
   "cell_type": "code",
   "execution_count": null,
   "metadata": {},
   "outputs": [],
   "source": [
    "# get image ids; can choose to load positive instances only\n",
    "img_ids = load_all_ids(phase='test',task=task,pos_only = pos_only)\n",
    "ids = img_ids[start_idx:end_idx] # select images to visualize\n",
    "print(f\"Showing positive only is {pos_only} with {len(img_ids)} images to visualize; task is {task} \\n\\n\")\n",
    "\n",
    "# plot everything\n",
    "for img_id in ids:\n",
    "    print(f\"{img_id}\\n\")\n",
    "    img1 = visualize_segmentations(img_id,task,phase='test',method='gradcam',model='single',w=w)\n",
    "    img2 = visualize_segmentations(img_id,task,phase='test',method='gradcam',model='ensemble',w=w)\n",
    "    img3 = visualize_segmentations(img_id,task,phase='test',method='ig',model='ensemble',w=w)\n",
    "    img4 = visualize_segmentations(img_id,task,phase='test',method='vietnam',w=w)\n",
    "    ipyplot.plot_images([img1,img2,img3,img4], labels = ['gradcam_single','gradcam_ensemble','ig_ensemble','human'],img_width=img_width)"
   ]
  },
  {
   "cell_type": "markdown",
   "metadata": {},
   "source": [
    "### Validation set (not relevant for now)"
   ]
  },
  {
   "cell_type": "code",
   "execution_count": null,
   "metadata": {},
   "outputs": [],
   "source": [
    "# directories of CAMS\n",
    "ig_dir = '/deep/u/ashwinagrawal/result/ensemble_results/cams/'\n",
    "gradcam_dir = '/deep/u/asaporta/densenet_ckpts/willow/ensemble_results/cams/'\n",
    "gt_dir = '/deep/group/aihc-bootcamp-spring2020/localize/annotations/gt_imgs/'\n",
    "\n",
    "# original x-ray images\n",
    "CXR_VALID_PATH = '/deep/group/CheXpert/CheXpert-v1.0/valid'\n",
    "CXR_TEST_PATH = '/deep/group/anujpare/CheXpert_original_test500/test'\n"
   ]
  },
  {
   "cell_type": "code",
   "execution_count": null,
   "metadata": {},
   "outputs": [],
   "source": [
    "# vietnam v.s. localization \n",
    "\n",
    "\n",
    "# side by side \n",
    "# left: choose from vietnam, gradcam_single, gradcam_ensemble and ig with stanford overlay\n",
    "# right: choose from vietnam, gradcam, and IG with stanford overlay\n",
    "\n",
    "# change to see diff patient and pathology\n",
    "patientid = 'patient64593'  # on validation set 64541:64740\n",
    "task = 'Cardiomegaly'\n",
    "\n",
    "# Integrated gradients\n",
    "w = 0.92\n",
    "visualize_cam_segmentation(ig_dir,CXR_VALID_PATH,gt_dir,patientid,task,w)"
   ]
  },
  {
   "cell_type": "code",
   "execution_count": null,
   "metadata": {},
   "outputs": [],
   "source": [
    "dataset = 'valid'\n",
    "path_group = '/deep/group/aihc-bootcamp-spring2020/localize'\n",
    "gt_file = f'{path_group}/annotations/{dataset}_annotations_merged.json'"
   ]
  },
  {
   "cell_type": "code",
   "execution_count": null,
   "metadata": {},
   "outputs": [],
   "source": [
    "with open(gt_file) as f:\n",
    "    gt = json.load(f)"
   ]
  },
  {
   "cell_type": "code",
   "execution_count": null,
   "metadata": {},
   "outputs": [],
   "source": [
    "len(gt.keys())"
   ]
  },
  {
   "cell_type": "code",
   "execution_count": null,
   "metadata": {},
   "outputs": [],
   "source": [
    "gt[list(gt.keys())[0]]"
   ]
  },
  {
   "cell_type": "code",
   "execution_count": null,
   "metadata": {},
   "outputs": [],
   "source": []
  }
 ],
 "metadata": {
  "kernelspec": {
   "display_name": "Python 3",
   "language": "python",
   "name": "python3"
  },
  "language_info": {
   "codemirror_mode": {
    "name": "ipython",
    "version": 3
   },
   "file_extension": ".py",
   "mimetype": "text/x-python",
   "name": "python",
   "nbconvert_exporter": "python",
   "pygments_lexer": "ipython3",
   "version": "3.7.6"
  }
 },
 "nbformat": 4,
 "nbformat_minor": 4
}
